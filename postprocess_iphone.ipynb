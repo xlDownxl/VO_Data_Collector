{
 "cells": [
  {
   "cell_type": "code",
   "execution_count": 1,
   "id": "8c84df5f",
   "metadata": {},
   "outputs": [],
   "source": [
    "import cv2\n",
    "import numpy as np\n",
    "import shutil\n",
    "import glob\n",
    "import os"
   ]
  },
  {
   "attachments": {},
   "cell_type": "markdown",
   "id": "ebe0bf41",
   "metadata": {},
   "source": [
    "The depth is decoded and resized to 640 x 480 to match the color images. The values are converted to TUM RGB-D format, i.e. depth in meters multiplied with the scale factor 5000 and saved as 16 bit integer as PNG file."
   ]
  },
  {
   "cell_type": "code",
   "execution_count": 1,
   "id": "186c70e8",
   "metadata": {},
   "outputs": [],
   "source": [
    "def get_depth(depth_path):\n",
    "    depth_flat=np.fromfile(depth_path,count=49152,dtype=np.float32)\n",
    "    depth = cv2.resize(depth_flat.reshape([192,256])*5000,(640,480),cv2.INTER_NEAREST).astype(np.uint16)\n",
    "    return depth"
   ]
  },
  {
   "attachments": {},
   "cell_type": "markdown",
   "id": "7cca7648",
   "metadata": {},
   "source": [
    "### Numerical image naming for e.g. matlab camera calibration"
   ]
  },
  {
   "cell_type": "code",
   "execution_count": null,
   "id": "ebbe93c5",
   "metadata": {},
   "outputs": [],
   "source": [
    "sequence=\"\"\n",
    "try:\n",
    "    os.makedirs(sequence+\"/rgb\")\n",
    "    os.makedirs(sequence+\"/depth\")\n",
    "except:\n",
    "    pass\n",
    "for i,(rgb, depth) in enumerate(zip(sorted(glob.glob(sequence+\"/CapturedImage/*\")),sorted(glob.glob(sequence+\"/DepthMap/*\")))):\n",
    "    #print(i)\n",
    "    shutil.copy(rgb, sequence+\"/rgb/\"+\"{:06d}\".format(i)+\".jpg\")\n",
    "    depth_processed = get_depth(depth)\n",
    "    cv2.imwrite(sequence+\"/depth/\"+\"{:06d}\".format(i)+\".png\",depth_processed)"
   ]
  },
  {
   "attachments": {},
   "cell_type": "markdown",
   "id": "b05d2753",
   "metadata": {},
   "source": [
    "#### Name image and depth after timestamp"
   ]
  },
  {
   "cell_type": "code",
   "execution_count": null,
   "id": "90b4baf6",
   "metadata": {},
   "outputs": [],
   "source": [
    "sequence=\"1\"\n",
    "try:\n",
    "    os.makedirs(sequence+\"/rgb\")\n",
    "    os.makedirs(sequence+\"/depth\")\n",
    "except:\n",
    "    pass\n",
    "\n",
    "zipped = zip(sorted(glob.glob(sequence+\"/CapturedImage/*\")),sorted(glob.glob(sequence+\"/DepthMap/*\")))\n",
    "for i,(rgb, depth) in enumerate(zipped):\n",
    "    print(i)\n",
    "    shutil.copy(rgb, rgb.replace(\"capturedImage_\",\"\").replace(\"CapturedImage\",\"rgb\"))      \n",
    "    \n",
    "    depth_processed = get_depth(depth)\n",
    "    depth_time = depth.split(\"/\")[-1].split(\"\\\\\")[-1].replace(\".bin\",\"\").replace(\"depth_\",\"\")\n",
    "    cv2.imwrite(sequence+\"/depth/\"+depth_time+\".png\",depth_processed)\n",
    "    "
   ]
  }
 ],
 "metadata": {
  "kernelspec": {
   "display_name": "Python 3 (ipykernel)",
   "language": "python",
   "name": "python3"
  },
  "language_info": {
   "codemirror_mode": {
    "name": "ipython",
    "version": 3
   },
   "file_extension": ".py",
   "mimetype": "text/x-python",
   "name": "python",
   "nbconvert_exporter": "python",
   "pygments_lexer": "ipython3",
   "version": "3.9.12"
  },
  "vscode": {
   "interpreter": {
    "hash": "55580a0005b318e5aaeb4b0fbd9f364a8fb4adbb7f5888c41750a9e0fa840a2f"
   }
  }
 },
 "nbformat": 4,
 "nbformat_minor": 5
}
